{
 "cells": [
  {
   "cell_type": "markdown",
   "id": "963853d5",
   "metadata": {},
   "source": [
    "## 0) Setup & Data Loading"
   ]
  },
  {
   "cell_type": "code",
   "execution_count": 1,
   "id": "cea8b29c",
   "metadata": {},
   "outputs": [
    {
     "name": "stdout",
     "output_type": "stream",
     "text": [
      "(876, 9) (293, 9) (293, 9)\n"
     ]
    }
   ],
   "source": [
    "\n",
    "import pandas as pd, numpy as np, matplotlib.pyplot as plt\n",
    "from sklearn.model_selection import train_test_split, KFold\n",
    "from sklearn.feature_extraction import DictVectorizer\n",
    "from sklearn.linear_model import LogisticRegression\n",
    "from sklearn.metrics import roc_auc_score, precision_score, recall_score, f1_score\n",
    "\n",
    "df = pd.read_csv(\"https://raw.githubusercontent.com/alexeygrigorev/datasets/master/course_lead_scoring.csv\")\n",
    "\n",
    "# Normalize column names\n",
    "df.columns = df.columns.str.strip().str.lower().str.replace(\" \", \"_\")\n",
    "\n",
    "target_col = \"converted\"\n",
    "\n",
    "# Identify columns\n",
    "cat_cols = [c for c in df.columns if df[c].dtype == \"object\" and c != target_col]\n",
    "num_cols = [c for c in df.columns if c not in cat_cols + [target_col]]\n",
    "\n",
    "# Missing values: categorical='NA', numerical=0.0\n",
    "for c in cat_cols:\n",
    "    df[c] = df[c].fillna(\"NA\").astype(str).str.strip().str.lower()\n",
    "for c in num_cols:\n",
    "    df[c] = pd.to_numeric(df[c], errors=\"coerce\").fillna(0.0)\n",
    "\n",
    "df[target_col] = pd.to_numeric(df[target_col], errors=\"coerce\").fillna(0).astype(int)\n",
    "\n",
    "# 60/20/20 split with random_state=1\n",
    "df_full_train, df_test = train_test_split(df, test_size=0.2, random_state=1, stratify=df[target_col])\n",
    "df_train, df_val = train_test_split(df_full_train, test_size=0.25, random_state=1, stratify=df_full_train[target_col])\n",
    "\n",
    "df_train = df_train.reset_index(drop=True)\n",
    "df_val   = df_val.reset_index(drop=True)\n",
    "df_test  = df_test.reset_index(drop=True)\n",
    "\n",
    "y_train = df_train[target_col].values\n",
    "y_val   = df_val[target_col].values\n",
    "y_test  = df_test[target_col].values\n",
    "\n",
    "X_train_df = df_train.drop(columns=[target_col])\n",
    "X_val_df   = df_val.drop(columns=[target_col])\n",
    "X_test_df  = df_test.drop(columns=[target_col])\n",
    "\n",
    "print(df_train.shape, df_val.shape, df_test.shape)\n"
   ]
  },
  {
   "cell_type": "markdown",
   "id": "ad33f0ef",
   "metadata": {},
   "source": [
    "## 1) Q1 — ROC AUC single‑feature scoring\n",
    "For each numerical feature, use it directly as the score and compute AUC on the **training** set. If AUC < 0.5, invert the sign so negatively correlated variables become positive."
   ]
  },
  {
   "cell_type": "code",
   "execution_count": 2,
   "id": "cee6fb9c",
   "metadata": {},
   "outputs": [
    {
     "data": {
      "text/html": [
       "<div>\n",
       "<style scoped>\n",
       "    .dataframe tbody tr th:only-of-type {\n",
       "        vertical-align: middle;\n",
       "    }\n",
       "\n",
       "    .dataframe tbody tr th {\n",
       "        vertical-align: top;\n",
       "    }\n",
       "\n",
       "    .dataframe thead th {\n",
       "        text-align: right;\n",
       "    }\n",
       "</style>\n",
       "<table border=\"1\" class=\"dataframe\">\n",
       "  <thead>\n",
       "    <tr style=\"text-align: right;\">\n",
       "      <th></th>\n",
       "      <th>feature</th>\n",
       "      <th>auc_used</th>\n",
       "      <th>was_inverted</th>\n",
       "    </tr>\n",
       "  </thead>\n",
       "  <tbody>\n",
       "    <tr>\n",
       "      <th>1</th>\n",
       "      <td>number_of_courses_viewed</td>\n",
       "      <td>0.751909</td>\n",
       "      <td>False</td>\n",
       "    </tr>\n",
       "    <tr>\n",
       "      <th>2</th>\n",
       "      <td>interaction_count</td>\n",
       "      <td>0.705731</td>\n",
       "      <td>False</td>\n",
       "    </tr>\n",
       "    <tr>\n",
       "      <th>0</th>\n",
       "      <td>lead_score</td>\n",
       "      <td>0.617792</td>\n",
       "      <td>False</td>\n",
       "    </tr>\n",
       "    <tr>\n",
       "      <th>3</th>\n",
       "      <td>annual_income</td>\n",
       "      <td>0.567474</td>\n",
       "      <td>False</td>\n",
       "    </tr>\n",
       "  </tbody>\n",
       "</table>\n",
       "</div>"
      ],
      "text/plain": [
       "                    feature  auc_used  was_inverted\n",
       "1  number_of_courses_viewed  0.751909         False\n",
       "2         interaction_count  0.705731         False\n",
       "0                lead_score  0.617792         False\n",
       "3             annual_income  0.567474         False"
      ]
     },
     "execution_count": 2,
     "metadata": {},
     "output_type": "execute_result"
    }
   ],
   "source": [
    "\n",
    "q1_features = [\"lead_score\", \"number_of_courses_viewed\", \"interaction_count\", \"annual_income\"]\n",
    "rows = []\n",
    "for col in q1_features:\n",
    "    scores = X_train_df[col].astype(float).values\n",
    "    auc_raw = roc_auc_score(y_train, scores)\n",
    "    if auc_raw < 0.5:\n",
    "        auc_adj = roc_auc_score(y_train, -scores)\n",
    "        inv = True\n",
    "    else:\n",
    "        auc_adj = auc_raw\n",
    "        inv = False\n",
    "    rows.append((col, auc_adj, inv))\n",
    "\n",
    "q1_df = pd.DataFrame(rows, columns=[\"feature\", \"auc_used\", \"was_inverted\"]).sort_values(by=\"auc_used\", ascending=False)\n",
    "q1_df\n"
   ]
  },
  {
   "cell_type": "markdown",
   "id": "b2a17e97",
   "metadata": {},
   "source": [
    "## 2) Q2 — Logistic Regression with `DictVectorizer`"
   ]
  },
  {
   "cell_type": "code",
   "execution_count": 3,
   "id": "f4a45d65",
   "metadata": {},
   "outputs": [
    {
     "name": "stdout",
     "output_type": "stream",
     "text": [
      "Validation AUC (rounded to 3): 0.9\n"
     ]
    }
   ],
   "source": [
    "\n",
    "dv = DictVectorizer(sparse=False)\n",
    "X_train = dv.fit_transform(X_train_df.to_dict(orient=\"records\"))\n",
    "X_val   = dv.transform(X_val_df.to_dict(orient=\"records\"))\n",
    "\n",
    "model = LogisticRegression(solver=\"liblinear\", C=1.0, max_iter=1000)\n",
    "model.fit(X_train, y_train)\n",
    "y_val_pred = model.predict_proba(X_val)[:, 1]\n",
    "auc_val = roc_auc_score(y_val, y_val_pred)\n",
    "print(\"Validation AUC (rounded to 3):\", round(auc_val,3))\n"
   ]
  },
  {
   "cell_type": "markdown",
   "id": "6591d4e5",
   "metadata": {},
   "source": [
    "## 3) Q3 — Precision & Recall vs Threshold\n",
    "Evaluate thresholds from 0.00 to 1.00 (step=0.01), compute precision and recall at each, and plot."
   ]
  },
  {
   "cell_type": "code",
   "execution_count": 5,
   "id": "b13d6a0a",
   "metadata": {},
   "outputs": [
    {
     "name": "stdout",
     "output_type": "stream",
     "text": [
      "Estimated Precision=Recall intersection threshold: 0.617\n",
      "\n",
      "Neighborhood around the intersection:\n"
     ]
    },
    {
     "data": {
      "text/html": [
       "<div>\n",
       "<style scoped>\n",
       "    .dataframe tbody tr th:only-of-type {\n",
       "        vertical-align: middle;\n",
       "    }\n",
       "\n",
       "    .dataframe tbody tr th {\n",
       "        vertical-align: top;\n",
       "    }\n",
       "\n",
       "    .dataframe thead th {\n",
       "        text-align: right;\n",
       "    }\n",
       "</style>\n",
       "<table border=\"1\" class=\"dataframe\">\n",
       "  <thead>\n",
       "    <tr style=\"text-align: right;\">\n",
       "      <th></th>\n",
       "      <th>threshold</th>\n",
       "      <th>precision</th>\n",
       "      <th>recall</th>\n",
       "      <th>diff_p_minus_r</th>\n",
       "    </tr>\n",
       "  </thead>\n",
       "  <tbody>\n",
       "    <tr>\n",
       "      <th>57</th>\n",
       "      <td>0.57</td>\n",
       "      <td>0.706827</td>\n",
       "      <td>0.972376</td>\n",
       "      <td>-0.265548</td>\n",
       "    </tr>\n",
       "    <tr>\n",
       "      <th>58</th>\n",
       "      <td>0.58</td>\n",
       "      <td>0.740426</td>\n",
       "      <td>0.961326</td>\n",
       "      <td>-0.220900</td>\n",
       "    </tr>\n",
       "    <tr>\n",
       "      <th>59</th>\n",
       "      <td>0.59</td>\n",
       "      <td>0.769912</td>\n",
       "      <td>0.961326</td>\n",
       "      <td>-0.191414</td>\n",
       "    </tr>\n",
       "    <tr>\n",
       "      <th>60</th>\n",
       "      <td>0.60</td>\n",
       "      <td>0.798122</td>\n",
       "      <td>0.939227</td>\n",
       "      <td>-0.141104</td>\n",
       "    </tr>\n",
       "    <tr>\n",
       "      <th>61</th>\n",
       "      <td>0.61</td>\n",
       "      <td>0.830769</td>\n",
       "      <td>0.895028</td>\n",
       "      <td>-0.064258</td>\n",
       "    </tr>\n",
       "    <tr>\n",
       "      <th>62</th>\n",
       "      <td>0.62</td>\n",
       "      <td>0.852273</td>\n",
       "      <td>0.828729</td>\n",
       "      <td>0.023543</td>\n",
       "    </tr>\n",
       "    <tr>\n",
       "      <th>63</th>\n",
       "      <td>0.63</td>\n",
       "      <td>0.902439</td>\n",
       "      <td>0.817680</td>\n",
       "      <td>0.084759</td>\n",
       "    </tr>\n",
       "    <tr>\n",
       "      <th>64</th>\n",
       "      <td>0.64</td>\n",
       "      <td>0.923077</td>\n",
       "      <td>0.729282</td>\n",
       "      <td>0.193795</td>\n",
       "    </tr>\n",
       "    <tr>\n",
       "      <th>65</th>\n",
       "      <td>0.65</td>\n",
       "      <td>0.935484</td>\n",
       "      <td>0.640884</td>\n",
       "      <td>0.294600</td>\n",
       "    </tr>\n",
       "    <tr>\n",
       "      <th>66</th>\n",
       "      <td>0.66</td>\n",
       "      <td>0.932773</td>\n",
       "      <td>0.613260</td>\n",
       "      <td>0.319513</td>\n",
       "    </tr>\n",
       "    <tr>\n",
       "      <th>67</th>\n",
       "      <td>0.67</td>\n",
       "      <td>0.979381</td>\n",
       "      <td>0.524862</td>\n",
       "      <td>0.454520</td>\n",
       "    </tr>\n",
       "  </tbody>\n",
       "</table>\n",
       "</div>"
      ],
      "text/plain": [
       "    threshold  precision    recall  diff_p_minus_r\n",
       "57       0.57   0.706827  0.972376       -0.265548\n",
       "58       0.58   0.740426  0.961326       -0.220900\n",
       "59       0.59   0.769912  0.961326       -0.191414\n",
       "60       0.60   0.798122  0.939227       -0.141104\n",
       "61       0.61   0.830769  0.895028       -0.064258\n",
       "62       0.62   0.852273  0.828729        0.023543\n",
       "63       0.63   0.902439  0.817680        0.084759\n",
       "64       0.64   0.923077  0.729282        0.193795\n",
       "65       0.65   0.935484  0.640884        0.294600\n",
       "66       0.66   0.932773  0.613260        0.319513\n",
       "67       0.67   0.979381  0.524862        0.454520"
      ]
     },
     "metadata": {},
     "output_type": "display_data"
    },
    {
     "data": {
      "image/png": "[encoded data removed]",
      "text/plain": [
       "<Figure size 640x480 with 1 Axes>"
      ]
     },
     "metadata": {},
     "output_type": "display_data"
    }
   ],
   "source": [
    "# 1) Compute precision & recall on a fixed grid\n",
    "thresholds = np.round(np.linspace(0, 1, 101), 2)  # 0.00, 0.01, ..., 1.00\n",
    "rows = []\n",
    "for t in thresholds:\n",
    "    y_hat = (y_val_pred >= t).astype(int)\n",
    "    p = precision_score(y_val, y_hat, zero_division=0)\n",
    "    r = recall_score(y_val, y_hat, zero_division=0)\n",
    "    rows.append((t, p, r, p - r))\n",
    "\n",
    "pr_df = pd.DataFrame(rows, columns=[\"threshold\", \"precision\", \"recall\", \"diff_p_minus_r\"])\n",
    "\n",
    "# 2) Find the curve intersection:\n",
    "#    Look for a sign change in (precision - recall) between adjacent thresholds and\n",
    "#    linearly interpolate the exact crossing point.\n",
    "crossings = []\n",
    "for i in range(len(pr_df) - 1):\n",
    "    x0, y0 = pr_df.loc[i,   [\"threshold\", \"diff_p_minus_r\"]]\n",
    "    x1, y1 = pr_df.loc[i+1, [\"threshold\", \"diff_p_minus_r\"]]\n",
    "    if y0 == 0:\n",
    "        crossings.append(float(x0))  # exact on-grid\n",
    "    elif y0 * y1 < 0:\n",
    "        # linear interpolation to solve y=0:\n",
    "        # y = y0 + (y1 - y0) * ((x - x0)/(x1 - x0))  ->  x = x0 - y0*(x1-x0)/(y1-y0)\n",
    "        x_star = x0 - y0 * (x1 - x0) / (y1 - y0)\n",
    "        crossings.append(float(x_star))\n",
    "\n",
    "if crossings:\n",
    "    t_intersection = float(crossings[0])  # first crossing\n",
    "else:\n",
    "    # Fallback: pick grid point with minimal |P-R|\n",
    "    t_intersection = float(pr_df.loc[pr_df[\"diff_p_minus_r\"].abs().idxmin(), \"threshold\"])\n",
    "\n",
    "print(f\"Estimated Precision=Recall intersection threshold: {t_intersection:.3f}\")\n",
    "\n",
    "# (Optional) Show a small neighborhood around the crossing\n",
    "def neighborhood(df, x, k=5):\n",
    "    i = (df[\"threshold\"] - x).abs().idxmin()\n",
    "    j0, j1 = max(0, i - k), min(len(df) - 1, i + k)\n",
    "    return df.iloc[j0:j1+1]\n",
    "\n",
    "print(\"\\nNeighborhood around the intersection:\")\n",
    "display(neighborhood(pr_df, t_intersection, k=5))\n",
    "\n",
    "# 3) Plot Precision & Recall curves and the intersection line\n",
    "plt.figure()\n",
    "plt.plot(pr_df[\"threshold\"], pr_df[\"precision\"], label=\"Precision\")\n",
    "plt.plot(pr_df[\"threshold\"], pr_df[\"recall\"], label=\"Recall\")\n",
    "plt.axvline(t_intersection, linestyle=\"--\", label=f\"Intersection ≈ {t_intersection:.3f}\")\n",
    "plt.xlabel(\"Threshold\")\n",
    "plt.ylabel(\"Score\")\n",
    "plt.title(\"Precision & Recall vs Threshold (Validation)\")\n",
    "plt.legend()\n",
    "plt.show()"
   ]
  },
  {
   "cell_type": "markdown",
   "id": "418850bc",
   "metadata": {},
   "source": [
    "## Q4 — F1 vs Threshold (best trade‑off)"
   ]
  },
  {
   "cell_type": "code",
   "execution_count": 12,
   "id": "b70ddd86",
   "metadata": {},
   "outputs": [
    {
     "data": {
      "text/plain": [
       "(    threshold        f1\n",
       " 0        0.00  0.763713\n",
       " 1        0.01  0.763713\n",
       " 2        0.02  0.763713\n",
       " 3        0.03  0.763713\n",
       " 4        0.04  0.763713\n",
       " ..        ...       ...\n",
       " 58       0.58  0.836538\n",
       " 59       0.59  0.855037\n",
       " 60       0.60  0.862944\n",
       " 61       0.61  0.861702\n",
       " 62       0.62  0.840336\n",
       " \n",
       " [63 rows x 2 columns],\n",
       " np.float64(0.6))"
      ]
     },
     "execution_count": 12,
     "metadata": {},
     "output_type": "execute_result"
    }
   ],
   "source": [
    "f1_rows = []\n",
    "for t in thresholds:\n",
    "    y_hat = (y_val_pred >= t).astype(int)\n",
    "    f1_rows.append((t, f1_score(y_val, y_hat, zero_division=0)))\n",
    "\n",
    "f1_df = pd.DataFrame(f1_rows, columns=[\"threshold\", \"f1\"])\n",
    "t_f1max = f1_df.loc[f1_df[\"f1\"].idxmax(), \"threshold\"]\n",
    "f1_df.head(63), t_f1max\n"
   ]
  },
  {
   "cell_type": "code",
   "execution_count": 7,
   "id": "84d3b647",
   "metadata": {},
   "outputs": [
    {
     "data": {
      "image/png": "[encoded data removed]",
      "text/plain": [
       "<Figure size 640x480 with 1 Axes>"
      ]
     },
     "metadata": {},
     "output_type": "display_data"
    }
   ],
   "source": [
    "plt.figure()\n",
    "plt.plot(f1_df[\"threshold\"], f1_df[\"f1\"])\n",
    "plt.xlabel(\"Threshold\"); plt.ylabel(\"F1\"); plt.title(\"F1 vs Threshold (Validation)\"); plt.show()"
   ]
  },
  {
   "cell_type": "markdown",
   "id": "0fd2e3a1",
   "metadata": {},
   "source": [
    "## 5) Q5 — 5‑Fold Cross‑Validation on `df_full_train`"
   ]
  },
  {
   "cell_type": "code",
   "execution_count": 8,
   "id": "fde53f86",
   "metadata": {},
   "outputs": [
    {
     "name": "stdout",
     "output_type": "stream",
     "text": [
      "Mean:  0.8168910142722202\n",
      "Stdv:  0.029312137624452266\n"
     ]
    }
   ],
   "source": [
    "def fold_auc(train_idx, val_idx):\n",
    "    df_tr = df_full_train.iloc[train_idx].reset_index(drop=True)\n",
    "    df_va = df_full_train.iloc[val_idx].reset_index(drop=True)\n",
    "\n",
    "    y_tr = df_tr[target_col].values\n",
    "    y_va = df_va[target_col].values\n",
    "\n",
    "    X_tr_df = df_tr.drop(columns=[target_col])\n",
    "    X_va_df = df_va.drop(columns=[target_col])\n",
    "\n",
    "    dv_loc = DictVectorizer(sparse=False)\n",
    "    X_tr = dv_loc.fit_transform(X_tr_df.to_dict(orient=\"records\"))\n",
    "    X_va = dv_loc.transform(X_va_df.to_dict(orient=\"records\"))\n",
    "\n",
    "    m = LogisticRegression(solver=\"liblinear\", C=1.0, max_iter=1000)\n",
    "    m.fit(X_tr, y_tr)\n",
    "    y_va_pred = m.predict_proba(X_va)[:, 1]\n",
    "    return roc_auc_score(y_va, y_va_pred)\n",
    "\n",
    "kf = KFold(n_splits=5, shuffle=True, random_state=1)\n",
    "scores = [fold_auc(tr, va) for tr, va in kf.split(df_full_train)]\n",
    "print(\"Mean: \",np.mean(scores))\n",
    "print(\"Stdv: \",np.std(scores))"
   ]
  },
  {
   "cell_type": "markdown",
   "id": "084f3e0e",
   "metadata": {},
   "source": [
    "## 6) Q6 — Hyperparameter Tuning for `C`\n",
    "\n",
    "If you have ties, select the score with the lowest std. If you still have ties, select the smallest C.\n"
   ]
  },
  {
   "cell_type": "code",
   "execution_count": 9,
   "id": "84b0929e",
   "metadata": {},
   "outputs": [
    {
     "data": {
      "text/html": [
       "<div>\n",
       "<style scoped>\n",
       "    .dataframe tbody tr th:only-of-type {\n",
       "        vertical-align: middle;\n",
       "    }\n",
       "\n",
       "    .dataframe tbody tr th {\n",
       "        vertical-align: top;\n",
       "    }\n",
       "\n",
       "    .dataframe thead th {\n",
       "        text-align: right;\n",
       "    }\n",
       "</style>\n",
       "<table border=\"1\" class=\"dataframe\">\n",
       "  <thead>\n",
       "    <tr style=\"text-align: right;\">\n",
       "      <th></th>\n",
       "      <th>C</th>\n",
       "      <th>mean_auc</th>\n",
       "      <th>std_auc</th>\n",
       "    </tr>\n",
       "  </thead>\n",
       "  <tbody>\n",
       "    <tr>\n",
       "      <th>1</th>\n",
       "      <td>0.001000</td>\n",
       "      <td>0.860087</td>\n",
       "      <td>0.025650</td>\n",
       "    </tr>\n",
       "    <tr>\n",
       "      <th>2</th>\n",
       "      <td>1.000000</td>\n",
       "      <td>0.816891</td>\n",
       "      <td>0.029312</td>\n",
       "    </tr>\n",
       "    <tr>\n",
       "      <th>0</th>\n",
       "      <td>0.000001</td>\n",
       "      <td>0.560858</td>\n",
       "      <td>0.035122</td>\n",
       "    </tr>\n",
       "  </tbody>\n",
       "</table>\n",
       "</div>"
      ],
      "text/plain": [
       "          C  mean_auc   std_auc\n",
       "1  0.001000  0.860087  0.025650\n",
       "2  1.000000  0.816891  0.029312\n",
       "0  0.000001  0.560858  0.035122"
      ]
     },
     "execution_count": 9,
     "metadata": {},
     "output_type": "execute_result"
    }
   ],
   "source": [
    "\n",
    "Cs = [1e-6, 1e-3, 1.0]\n",
    "summary = []\n",
    "for C in Cs:\n",
    "    kf = KFold(n_splits=5, shuffle=True, random_state=1)\n",
    "    scores = []\n",
    "    for tr, va in kf.split(df_full_train):\n",
    "        df_tr = df_full_train.iloc[tr].reset_index(drop=True)\n",
    "        df_va = df_full_train.iloc[va].reset_index(drop=True)\n",
    "\n",
    "        y_tr = df_tr[target_col].values\n",
    "        y_va = df_va[target_col].values\n",
    "\n",
    "        X_tr_df = df_tr.drop(columns=[target_col])\n",
    "        X_va_df = df_va.drop(columns=[target_col])\n",
    "\n",
    "        dv_loc = DictVectorizer(sparse=False)\n",
    "        X_tr = dv_loc.fit_transform(X_tr_df.to_dict(orient=\"records\"))\n",
    "        X_va = dv_loc.transform(X_va_df.to_dict(orient=\"records\"))\n",
    "\n",
    "        m = LogisticRegression(solver=\"liblinear\", C=C, max_iter=1000)\n",
    "        m.fit(X_tr, y_tr)\n",
    "        y_va_pred = m.predict_proba(X_va)[:, 1]\n",
    "        scores.append(roc_auc_score(y_va, y_va_pred))\n",
    "    summary.append((C, np.mean(scores), np.std(scores)))\n",
    "\n",
    "hp = pd.DataFrame(summary, columns=[\"C\", \"mean_auc\", \"std_auc\"]).sort_values(by=[\"mean_auc\", \"std_auc\", \"C\"], ascending=[False, True, True])\n",
    "hp\n"
   ]
  }
 ],
 "metadata": {
  "kernelspec": {
   "display_name": "Python 3",
   "language": "python",
   "name": "python3"
  },
  "language_info": {
   "codemirror_mode": {
    "name": "ipython",
    "version": 3
   },
   "file_extension": ".py",
   "mimetype": "text/x-python",
   "name": "python",
   "nbconvert_exporter": "python",
   "pygments_lexer": "ipython3",
   "version": "3.12.1"
  }
 },
 "nbformat": 4,
 "nbformat_minor": 5
}
